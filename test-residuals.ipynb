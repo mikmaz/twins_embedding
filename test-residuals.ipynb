{
 "cells": [
  {
   "cell_type": "code",
   "id": "initial_id",
   "metadata": {
    "collapsed": true,
    "ExecuteTime": {
     "end_time": "2024-07-02T18:55:46.768832Z",
     "start_time": "2024-07-02T18:55:46.762597Z"
    }
   },
   "source": [
    "import os\n",
    "\n",
    "import numpy as np\n",
    "import pandas as pd\n",
    "import seaborn as sns\n",
    "\n",
    "\n",
    "import matplotlib.pyplot as plt\n",
    "import utils\n",
    "from specstan.plot import scatter_combined, default_settings\n",
    "from utils import load_stan_model\n",
    "from sklearn.manifold import Isomap, TSNE\n",
    "import extinction"
   ],
   "outputs": [],
   "execution_count": 152
  },
  {
   "metadata": {},
   "cell_type": "code",
   "source": "STAN_MODEL = load_stan_model(\"./stan_models/read_between_the_lines.stan\")",
   "id": "f4dfcf0e4fa66ca6",
   "outputs": [],
   "execution_count": null
  },
  {
   "metadata": {},
   "cell_type": "code",
   "source": "STAN_MODEL[1].show()",
   "id": "b3af8ac72edfb89e",
   "outputs": [],
   "execution_count": null
  },
  {
   "metadata": {},
   "cell_type": "code",
   "source": [
    "\"\"\"\n",
    "StanModel object 'anon_model_b8c59412995a2cb1104bb18453c94b02' coded as follows:\n",
    "data {\n",
    "    int<lower=0> num_targets;\n",
    "    int<lower=0> num_wave;\n",
    "    vector[num_wave] maximum_flux[num_targets];\n",
    "    vector[num_wave] maximum_fluxerr[num_targets];\n",
    "    vector[num_wave] color_law;\n",
    "}\n",
    "transformed data{\n",
    "    // Sum-to-zero transformations\n",
    "    matrix[num_targets, num_targets] sum_zero_mat =\n",
    "        diag_matrix(rep_vector(1, num_targets));\n",
    "    matrix[num_targets, num_targets-1] sum_zero_qr;\n",
    "    for (i in 1:num_targets-1) sum_zero_mat[num_targets,i] = -1;\n",
    "    sum_zero_mat[num_targets, num_targets] = 0;\n",
    "    sum_zero_qr = qr_Q(sum_zero_mat)[ , 1:(num_targets-1)];\n",
    "}\n",
    "parameters {\n",
    "    vector[num_wave] mean_flux;\n",
    "    vector<lower=0>[num_wave] fractional_dispersion;\n",
    "\n",
    "    vector[num_targets-1] colors_raw;\n",
    "    vector[num_targets-1] magnitudes_raw;\n",
    "}\n",
    "transformed parameters {\n",
    "    vector[num_wave] model_diffs[num_targets];\n",
    "    vector[num_wave] model_scales[num_targets];\n",
    "    vector[num_wave] model_flux[num_targets];\n",
    "    vector[num_wave] model_fluxerr[num_targets];\n",
    "\n",
    "    vector[num_targets] colors = sum_zero_qr * colors_raw;\n",
    "    vector[num_targets] magnitudes = sum_zero_qr * magnitudes_raw;\n",
    "\n",
    "    for (t in 1:num_targets) {\n",
    "        model_diffs[t] = magnitudes[t] + color_law * colors[t];\n",
    "        model_scales[t] = exp(-0.4 * log(10) * model_diffs[t]);\n",
    "        model_flux[t] = mean_flux .* model_scales[t];\n",
    "        model_fluxerr[t] = sqrt(\n",
    "            square(maximum_fluxerr[t])\n",
    "            + square(fractional_dispersion .* model_flux[t])\n",
    "        );\n",
    "    }\n",
    "}\n",
    "model {\n",
    "    colors ~ normal(0, 1.0);\n",
    "    for (t in 1:num_targets) {\n",
    "        maximum_flux[t] ~ normal(model_flux[t], model_fluxerr[t]);\n",
    "    }\n",
    "}\n",
    "\n",
    "\"\"\""
   ],
   "id": "6afda6bbf519707f",
   "outputs": [],
   "execution_count": null
  },
  {
   "metadata": {},
   "cell_type": "code",
   "source": [
    "def load_rbtl_dispersion(file_path):\n",
    "    names = [\n",
    "        \"sn\", \"salt2_x1\", \"salt2_x1_unc\", \"salt2_c\", \"salt2_c_unc\",\n",
    "        \"delta_av\", \"delta_av_unc\", \"delta_m\", \"delta_m_unc\", \"xi1\", \"xi2\",\n",
    "        \"xi3\"\n",
    "    ]\n",
    "    dtypes = {key: np.float64 for key in names}\n",
    "    dtypes[\"sn\"] = str\n",
    "    rbtl_data = pd.read_csv(file_path, sep=\"\\s+\", names=names, header=0,\n",
    "                            dtype=dtypes)\n",
    "    return rbtl_data\n",
    "\n",
    "\n",
    "def load_global_params(file_path):\n",
    "    names = [\"wavelength\", \"c1\", \"c2\", \"eps_neg_5\", \"eps_neg_2_5\", \"eps_2_5\",\n",
    "             \"eps_5\", \"eta\"]\n",
    "    dtypes = {key: np.float64 for key in names}\n",
    "    dtypes[\"wavelength\"] = np.int64\n",
    "    global_params = pd.read_csv(file_path, sep=\"\\s+\", names=names, header=0,\n",
    "                                dtype=dtypes)\n",
    "    return global_params\n",
    "\n",
    "\n",
    "RBTL_DATA = load_rbtl_dispersion(\"../SNfactory/rbtl-dispertion.txt\")\n",
    "GLOBAL_PARAMS = load_global_params(\"../SNfactory/global-diff-rbtl-params.txt\")"
   ],
   "id": "2917e99291b3bffe",
   "outputs": [],
   "execution_count": null
  },
  {
   "metadata": {},
   "cell_type": "code",
   "source": [
    "def load_flux(dir_path, sn_order):\n",
    "    spectra = {}\n",
    "    for spectrum_f_path in os.scandir(dir_path):\n",
    "        sn = spectrum_f_path.name.split(\".\")[0]\n",
    "        spectra[sn] = np.loadtxt(spectrum_f_path, skiprows=1)[None, ...]\n",
    "    print(len(spectra))\n",
    "    spectra = [spectra[sn] for sn in sn_order]\n",
    "    print(len(spectra))\n",
    "    spectra = np.concatenate(spectra, axis=0)\n",
    "    return spectra[..., 0], spectra[..., 1], spectra[..., 2]\n",
    "\n",
    "\n",
    "WAVELENGTHS, SPECTRA, SPECTRA_ERR = load_flux(\"../SNfactory/spectra\",\n",
    "                                              RBTL_DATA[\"sn\"].values)"
   ],
   "id": "413a8418b3452bb3",
   "outputs": [],
   "execution_count": null
  },
  {
   "metadata": {
    "ExecuteTime": {
     "end_time": "2024-07-02T18:55:14.302005Z",
     "start_time": "2024-07-02T18:55:14.275423Z"
    }
   },
   "cell_type": "code",
   "source": [
    "def recover_pre_rbtl_spectra(wavelengths, spectra, mag_residual, rbtl_extinction):\n",
    "    rbtl_color_law = extinction.fitzpatrick99(\n",
    "        wavelengths, 1.0, default_settings['rbtl_fiducial_rv'] # 2.8\n",
    "    )\n",
    "    return spectra / 10 ** (0.4 * (mag_residual[:, None] + rbtl_extinction[:, None] * rbtl_color_law))\n",
    "\n",
    "RECOVERED_SPECTRA = recover_pre_rbtl_spectra(\n",
    "    WAVELENGTHS[0], SPECTRA, RBTL_DATA[\"delta_m\"].values, RBTL_DATA[\"delta_av\"].values\n",
    ")"
   ],
   "id": "daf715ee632a5be2",
   "outputs": [],
   "execution_count": 149
  },
  {
   "metadata": {
    "ExecuteTime": {
     "end_time": "2024-07-02T18:33:49.911180Z",
     "start_time": "2024-07-02T18:33:49.871092Z"
    }
   },
   "cell_type": "code",
   "source": [
    "def get_noise_mask(global_params, spectra, spectra_err, max_frac=0.1):\n",
    "    intrinsic_dispersion = global_params[\"eta\"].values\n",
    "    intrinsic_power = np.sum(intrinsic_dispersion ** 2)\n",
    "    maximum_uncertainty = utils.frac_to_mag(\n",
    "        spectra_err / spectra\n",
    "    )\n",
    "    maximum_power = np.sum(maximum_uncertainty ** 2, axis=1)\n",
    "    maximum_uncertainty_fraction = maximum_power / intrinsic_power\n",
    "    return maximum_uncertainty_fraction < max_frac\n",
    "\n",
    "def get_extinction_mask(extinction, max_extinction=0.5):\n",
    "    return np.abs(extinction) < max_extinction\n",
    "    \n",
    "\n",
    "NOISE_MASK = get_noise_mask(GLOBAL_PARAMS, SPECTRA, SPECTRA_ERR)\n",
    "EXTINCTION_MASK = get_extinction_mask(RBTL_DATA[\"delta_av\"].values)\n",
    "COMBINED_MASK = np.logical_and(NOISE_MASK, EXTINCTION_MASK)"
   ],
   "id": "70d3282385a034b8",
   "outputs": [],
   "execution_count": 139
  },
  {
   "metadata": {},
   "cell_type": "code",
   "source": [
    "EMBEDDING = RBTL_DATA[[\"xi1\", \"xi2\", \"xi3\"]].values\n",
    "RBTL_RESIDUALS = RBTL_DATA[\"delta_m\"].values"
   ],
   "id": "33e492ef75b58fef",
   "outputs": [],
   "execution_count": null
  },
  {
   "metadata": {},
   "cell_type": "code",
   "source": [
    "def isomap(spectra, num_neighbors, num_components):\n",
    "    mean_spectrum = np.mean(spectra, axis=0)\n",
    "    fractional_differences = spectra / mean_spectrum - 1\n",
    "    model = Isomap(n_neighbors=num_neighbors, n_components=num_components)\n",
    "    embedding = model.fit_transform(fractional_differences)\n",
    "    embedding[:, 1] *= -1\n",
    "    return embedding\n",
    "\n",
    "ISOMAP_EMBEDDING = isomap(SPECTRA, 10, 3)"
   ],
   "id": "b423515e6d6402bf",
   "outputs": [],
   "execution_count": null
  },
  {
   "metadata": {},
   "cell_type": "code",
   "source": [
    "def t_sne(spectra, num_components, perplexity, mask=None):\n",
    "    mean_spectrum = np.mean(spectra, axis=0)\n",
    "    fractional_differences = spectra / mean_spectrum - 1\n",
    "    model = TSNE(n_components=num_components, method='exact', random_state=42, verbose=1, n_jobs=6, init=\"pca\", n_iter=10000, perplexity=perplexity)\n",
    "    if mask is not None:\n",
    "        fractional_differences = fractional_differences[mask]\n",
    "    embedding = model.fit_transform(fractional_differences)\n",
    "    return embedding\n",
    "\n",
    "TSNE_EMBEDDING = t_sne(SPECTRA, 3, 50, mask=NOISE_MASK)"
   ],
   "id": "51dfb94e607ee9d3",
   "outputs": [],
   "execution_count": null
  },
  {
   "metadata": {},
   "cell_type": "code",
   "source": [
    "scatter_combined(\n",
    "    EMBEDDING, RBTL_RESIDUALS,\n",
    "    \"./figures/rbtl-disp.png\", vmin=-0.5, vmax=0.5, invert_colorbar=True, mask=NOISE_MASK\n",
    ")"
   ],
   "id": "e05ee6a44a075132",
   "outputs": [],
   "execution_count": null
  },
  {
   "metadata": {},
   "cell_type": "code",
   "source": [
    "scatter_combined(\n",
    "    ISOMAP_EMBEDDING, RBTL_RESIDUALS,\n",
    "    \"./figures/rbtl-disp-mine.png\", vmin=-0.5, vmax=0.5, invert_colorbar=True, mask=NOISE_MASK\n",
    ")"
   ],
   "id": "170e69366091487d",
   "outputs": [],
   "execution_count": null
  },
  {
   "metadata": {},
   "cell_type": "code",
   "source": [
    "scatter_combined(\n",
    "    TSNE_EMBEDDING, RBTL_RESIDUALS[NOISE_MASK],\n",
    "    \"./figures/rbtl-disp-tsne.png\", vmin=-0.5, vmax=0.5, invert_colorbar=True\n",
    ")"
   ],
   "id": "8566a3d2547f5228",
   "outputs": [],
   "execution_count": null
  },
  {
   "metadata": {
    "ExecuteTime": {
     "end_time": "2024-07-02T18:37:17.794101Z",
     "start_time": "2024-07-02T18:37:17.789400Z"
    }
   },
   "cell_type": "code",
   "source": [
    "def nmad(x, *args, unbiased=False, centered=False, **kwargs):\n",
    "    x = np.asarray(x)\n",
    "    if not centered:\n",
    "        x = x - np.median(x, *args, **kwargs)\n",
    "\n",
    "    res = 1.4826 * np.median(np.abs(x), *args, **kwargs)\n",
    "\n",
    "    if unbiased:\n",
    "        res = res * x.size / (x.size - 1)\n",
    "\n",
    "    return res"
   ],
   "id": "80a5cb56ecbdcd13",
   "outputs": [],
   "execution_count": 144
  },
  {
   "metadata": {
    "ExecuteTime": {
     "end_time": "2024-07-02T18:37:18.099810Z",
     "start_time": "2024-07-02T18:37:18.093387Z"
    }
   },
   "cell_type": "code",
   "source": [
    "print(np.std(RBTL_RESIDUALS[COMBINED_MASK]))\n",
    "print(nmad(RBTL_RESIDUALS[COMBINED_MASK]))\n",
    "print(COMBINED_MASK.sum())"
   ],
   "id": "bfa18f9b008e8de8",
   "outputs": [
    {
     "name": "stdout",
     "output_type": "stream",
     "text": [
      "0.193943567386762\n",
      "0.11564279999999999\n",
      "156\n"
     ]
    }
   ],
   "execution_count": 145
  },
  {
   "metadata": {},
   "cell_type": "code",
   "source": "RBTL_RESIDUALS[np.logical_and(RBTL_RESIDUALS < 0.5, RBTL_RESIDUALS > -0.5)].shape",
   "id": "da9535a38c2617f6",
   "outputs": [],
   "execution_count": null
  },
  {
   "metadata": {},
   "cell_type": "code",
   "source": "sns.histplot(RBTL_RESIDUALS[NOISE_MASK])",
   "id": "7326d28be7a12f32",
   "outputs": [],
   "execution_count": null
  }
 ],
 "metadata": {
  "kernelspec": {
   "display_name": "Python 3",
   "language": "python",
   "name": "python3"
  },
  "language_info": {
   "codemirror_mode": {
    "name": "ipython",
    "version": 2
   },
   "file_extension": ".py",
   "mimetype": "text/x-python",
   "name": "python",
   "nbconvert_exporter": "python",
   "pygments_lexer": "ipython2",
   "version": "2.7.6"
  }
 },
 "nbformat": 4,
 "nbformat_minor": 5
}
