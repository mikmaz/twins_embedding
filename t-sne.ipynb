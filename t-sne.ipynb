{
 "cells": [
  {
   "cell_type": "code",
   "id": "initial_id",
   "metadata": {
    "collapsed": true
   },
   "source": [
    "from idrtools import Dataset\n",
    "import numpy as np\n",
    "import os\n",
    "from sklearn.manifold import TSNE, Isomap\n",
    "import skdim\n",
    "import matplotlib.pyplot as plt\n",
    "import specind\n",
    "from astropy import table\n",
    "import matplotlib as mpl\n",
    "import scienceplots\n",
    "import importlib"
   ],
   "outputs": [],
   "execution_count": null
  },
  {
   "metadata": {},
   "cell_type": "code",
   "source": "# plt.style.use('science')",
   "id": "b15708e0f010675f",
   "outputs": [],
   "execution_count": null
  },
  {
   "metadata": {},
   "cell_type": "code",
   "source": [
    "def load_all_spectra(spectra_path):\n",
    "    spectra = []\n",
    "    for spectrum_f_name in os.scandir(spectra_path):       \n",
    "        spectra.append(\n",
    "            np.loadtxt(spectrum_f_name, skiprows=1)[None, ...]\n",
    "        )\n",
    "    return np.concatenate(spectra, axis=0)\n",
    "    \n",
    "ALL_SPECTRA = load_all_spectra(\"../SNfactory/spectra\")"
   ],
   "id": "f77949e7fb1aea8d",
   "outputs": [],
   "execution_count": null
  },
  {
   "metadata": {
    "ExecuteTime": {
     "end_time": "2024-06-18T11:26:14.815589Z",
     "start_time": "2024-06-18T11:26:14.779702Z"
    }
   },
   "cell_type": "code",
   "source": "print(ALL_SPECTRA.shape)",
   "id": "8553e5a05eb39301",
   "outputs": [
    {
     "name": "stdout",
     "output_type": "stream",
     "text": [
      "(203, 288, 3)\n"
     ]
    }
   ],
   "execution_count": 61
  },
  {
   "metadata": {},
   "cell_type": "code",
   "source": [
    "def filter_spectra(spectra, uncertainties):\n",
    "    intrinsic_variance = np.var(spectra, axis=0)\n",
    "    argmax_uncertainties = np.argmax(uncertainties, axis=1)\n",
    "    max_intrinsic_sd = intrinsic_variance[argmax_uncertainties] ** 0.5\n",
    "    max_uncertainties = np.max(uncertainties, axis=1)\n",
    "    print((max_uncertainties < max_intrinsic_sd * 0.1).sum())\n",
    "    \n",
    "filter_spectra(ALL_SPECTRA[:, :, 1], ALL_SPECTRA[:, :, 2])"
   ],
   "id": "a85077f1f73fdafb",
   "outputs": [],
   "execution_count": null
  },
  {
   "metadata": {},
   "cell_type": "code",
   "source": [
    "def get_distance_matrix(spectra):\n",
    "    mean_spectrum = np.mean(spectra, axis=0)\n",
    "    spectra_rep_1 = np.tile(spectra, (spectra.shape[0], 1))\n",
    "    spectra_rep_2 = np.tile(spectra, (1, spectra.shape[0])).reshape(-1, spectra.shape[1])\n",
    "    distances = np.linalg.norm((spectra_rep_1 - spectra_rep_2) / mean_spectrum, axis=1)\n",
    "    distances = distances.reshape(spectra.shape[0], spectra.shape[0])\n",
    "    return distances\n",
    "    \n",
    "SPECTRAL_DISTANCES = get_distance_matrix(ALL_SPECTRA[:, :, 1])"
   ],
   "id": "5da44c159ca971e1",
   "outputs": [],
   "execution_count": null
  },
  {
   "metadata": {},
   "cell_type": "code",
   "source": [
    "def calculate_spectral_indicators(spectra, spectra_err, wavelengths):\n",
    "    \"\"\"Calculate spectral indicators for all of the features\"\"\"\n",
    "    spectral_indicators = []\n",
    "\n",
    "    for idx in range(len(spectra)):\n",
    "        spec = specind.Spectrum(\n",
    "            wavelengths, spectra[idx], spectra_err[idx]**2\n",
    "        )\n",
    "        indicators = spec.get_spin_dict()\n",
    "        spectral_indicators.append(indicators)\n",
    "\n",
    "    spectral_indicators = table.Table(spectral_indicators, masked=True)\n",
    "\n",
    "    # Figure out Branch classifications\n",
    "    all_si6355 = spectral_indicators[\"EWSiII6355\"]\n",
    "    all_si5972 = spectral_indicators[\"EWSiII5972\"]\n",
    "\n",
    "    branch_classifications = []\n",
    "\n",
    "    for si6355, si5972 in zip(all_si6355, all_si5972):\n",
    "        if si5972 >= 30:\n",
    "            branch_classifications.append(\"Cool\")\n",
    "        elif (si5972 < 30) & (si6355 < 70):\n",
    "            branch_classifications.append(\"Shallow Silicon\")\n",
    "        elif (si5972 < 30) & (si6355 >= 70) & (si6355 < 100):\n",
    "            branch_classifications.append(\"Core Normal\")\n",
    "        elif (si5972 < 30) & (si6355 >= 100):\n",
    "            branch_classifications.append(\"Broad Line\")\n",
    "\n",
    "    spectral_indicators['branch_classification'] = branch_classifications\n",
    "\n",
    "    for colname in spectral_indicators.colnames:\n",
    "        # Mask out indicators that we shouldn't be using.\n",
    "        # spectral_indicators[colname].mask = ~self.uncertainty_mask\n",
    "\n",
    "        if 'branch' not in colname:\n",
    "            spectral_indicators.rename_column(colname, f'spectrum_{colname}')\n",
    "\n",
    "    return spectral_indicators\n",
    "\n",
    "SPECTRAL_INDICATORS = calculate_spectral_indicators(ALL_SPECTRA[:, :, 1], ALL_SPECTRA[:, :, 2], ALL_SPECTRA[0, :, 0])"
   ],
   "id": "fc25ac5fbbeec17a",
   "outputs": [],
   "execution_count": null
  },
  {
   "metadata": {},
   "cell_type": "code",
   "source": [
    "BRANCH_CLASSIFICATION_COLORMAP = {\n",
    "    \"Core Normal\": \"tab:gray\",\n",
    "    \"Shallow Silicon\": \"tab:orange\",\n",
    "    \"Cool\": \"tab:blue\",\n",
    "    \"Broad Line\": \"tab:green\"\n",
    "}\n",
    "# SPECTRAL_INDICATORS['branch_classification']"
   ],
   "id": "d5c351edd566fa82",
   "outputs": [],
   "execution_count": null
  },
  {
   "metadata": {
    "ExecuteTime": {
     "end_time": "2024-06-18T10:59:12.941624Z",
     "start_time": "2024-06-18T10:59:12.930469Z"
    }
   },
   "cell_type": "code",
   "source": [
    "def t_sne_embedding(spectra, n_components=3, perplexity=30, random_state=42, init='pca'):\n",
    "    mean_spectrum = np.mean(spectra, axis=0)\n",
    "    def spectral_distance(x, y):\n",
    "        return np.linalg.norm((x - y) / mean_spectrum)\n",
    "    t_sne = TSNE(\n",
    "        n_components=n_components, method='exact', random_state=random_state, verbose=1, n_jobs=6, init=init, n_iter=10000,\n",
    "        perplexity=perplexity, metric=spectral_distance\n",
    "    )\n",
    "    projection = t_sne.fit_transform(spectra)\n",
    "    \"\"\"\n",
    "    projection = Isomap(\n",
    "        n_jobs=-1, n_neighbors=19\n",
    "    ).fit_transform(spectra)\n",
    "    \"\"\"\n",
    "    return projection, t_sne.kl_divergence_\n",
    "\n",
    "# EMBEDDING = t_sne_embedding(ALL_SPECTRA[:, :, 1])\n",
    "# plt.scatter(EMBEDDING[:, 0], EMBEDDING[:, 1])"
   ],
   "id": "8f2694a8f5240304",
   "outputs": [],
   "execution_count": 49
  },
  {
   "metadata": {
    "ExecuteTime": {
     "end_time": "2024-06-18T10:59:13.912599Z",
     "start_time": "2024-06-18T10:59:13.904167Z"
    }
   },
   "cell_type": "code",
   "source": "np.round(np.logspace(np.log10(5), np.log10(203), 16))",
   "id": "2665eec9d9f34c40",
   "outputs": [
    {
     "data": {
      "text/plain": [
       "array([  5.,   6.,   8.,  10.,  13.,  17.,  22.,  28.,  36.,  46.,  59.,\n",
       "        76.,  97., 124., 159., 203.])"
      ]
     },
     "execution_count": 50,
     "metadata": {},
     "output_type": "execute_result"
    }
   ],
   "execution_count": 50
  },
  {
   "metadata": {
    "ExecuteTime": {
     "end_time": "2024-06-18T11:03:41.180344Z",
     "start_time": "2024-06-18T11:03:41.175773Z"
    }
   },
   "cell_type": "code",
   "source": [
    "def plot_t_sne(\n",
    "        spectra, save_path, n_components=2, init='pca', random_state=42, grid_dim=5, f_name=\"t_sne_projection.png\",\n",
    "        branch_classification=None\n",
    "):\n",
    "    with plt.style.context('science'):\n",
    "        fig, axs = plt.subplots(grid_dim, grid_dim, figsize=(16, 16))\n",
    "        # perplexities = [perplexity_step * i for i in range(1, grid_dim ** 2 + 1)]\n",
    "        perplexities = np.round(np.logspace(np.log10(5), np.log10(spectra.shape[0]-1), grid_dim ** 2))\n",
    "        colors = None\n",
    "        if branch_classification is not None:\n",
    "            colors = [BRANCH_CLASSIFICATION_COLORMAP[branch] for branch in branch_classification]\n",
    "        for i, ax in enumerate(axs.flat):\n",
    "            perplexity = perplexities[i]\n",
    "            print(f\"Perplexity: {perplexity}\")\n",
    "            embedding, kl_divergence = t_sne_embedding(\n",
    "                spectra, n_components=n_components, perplexity=perplexity, random_state=random_state, init=init\n",
    "            )\n",
    "            if colors is not None:\n",
    "                for label, color in BRANCH_CLASSIFICATION_COLORMAP.items():\n",
    "                    ax.scatter(\n",
    "                        embedding[branch_classification == label, 0], embedding[branch_classification == label, 1],\n",
    "                        alpha=0.75, c=color, label=label\n",
    "                    )\n",
    "                ax.legend(frameon=True, framealpha=0.7, edgecolor='black', fancybox=True)\n",
    "            else:\n",
    "                ax.scatter(embedding[:, 0], embedding[:, 1], alpha=0.75)\n",
    "            ax.set_xlabel(r\"$\\xi_1$\")\n",
    "            ax.set_ylabel(r\"$\\xi_2$\")\n",
    "            ax.set_title(f\"Perplexity: {int(perplexity)}, KL divergence: {kl_divergence:.5f}\")\n",
    "        fig.tight_layout(rect=[0, 0.03, 1, 0.95])\n",
    "        fig.suptitle(f\"Initialization: {init}, Random seed: {random_state}\")\n",
    "        fig.savefig(f\"{save_path}/{f_name}\", dpi=150)\n",
    "        plt.close(fig)"
   ],
   "id": "dc5c4de4f34262d9",
   "outputs": [],
   "execution_count": 60
  },
  {
   "metadata": {
    "ExecuteTime": {
     "end_time": "2024-06-18T11:00:38.203415Z",
     "start_time": "2024-06-18T10:59:19.031531Z"
    }
   },
   "cell_type": "code",
   "source": [
    "plot_t_sne(\n",
    "    ALL_SPECTRA[:, :, 1], \"./misc/plots/t-sne\", f_name=\"t_sne_pca.png\", grid_dim=4,\n",
    "    branch_classification=SPECTRAL_INDICATORS['branch_classification']\n",
    ")"
   ],
   "id": "3e67a9751fd6dec",
   "outputs": [
    {
     "name": "stdout",
     "output_type": "stream",
     "text": [
      "Perplexity: 5.0\n",
      "[t-SNE] Computing pairwise distances...\n",
      "[t-SNE] Computed conditional probabilities for sample 203 / 203\n",
      "[t-SNE] Mean sigma: 0.476403\n",
      "[t-SNE] KL divergence after 250 iterations with early exaggeration: 65.986088\n",
      "[t-SNE] KL divergence after 10000 iterations: 0.526770\n",
      "Perplexity: 6.0\n",
      "[t-SNE] Computing pairwise distances...\n",
      "[t-SNE] Computed conditional probabilities for sample 203 / 203\n",
      "[t-SNE] Mean sigma: 0.511257\n",
      "[t-SNE] KL divergence after 250 iterations with early exaggeration: 63.805736\n",
      "[t-SNE] KL divergence after 10000 iterations: 0.532502\n",
      "Perplexity: 8.0\n",
      "[t-SNE] Computing pairwise distances...\n",
      "[t-SNE] Computed conditional probabilities for sample 203 / 203\n",
      "[t-SNE] Mean sigma: 0.565429\n",
      "[t-SNE] KL divergence after 250 iterations with early exaggeration: 63.174715\n",
      "[t-SNE] KL divergence after 10000 iterations: 0.535181\n",
      "Perplexity: 10.0\n",
      "[t-SNE] Computing pairwise distances...\n",
      "[t-SNE] Computed conditional probabilities for sample 203 / 203\n",
      "[t-SNE] Mean sigma: 0.609174\n",
      "[t-SNE] KL divergence after 250 iterations with early exaggeration: 62.725825\n",
      "[t-SNE] KL divergence after 10000 iterations: 0.503945\n",
      "Perplexity: 13.0\n",
      "[t-SNE] Computing pairwise distances...\n",
      "[t-SNE] Computed conditional probabilities for sample 203 / 203\n",
      "[t-SNE] Mean sigma: 0.664005\n",
      "[t-SNE] KL divergence after 250 iterations with early exaggeration: 61.554313\n",
      "[t-SNE] KL divergence after 10000 iterations: 0.487879\n",
      "Perplexity: 17.0\n",
      "[t-SNE] Computing pairwise distances...\n",
      "[t-SNE] Computed conditional probabilities for sample 203 / 203\n",
      "[t-SNE] Mean sigma: 0.725168\n",
      "[t-SNE] KL divergence after 250 iterations with early exaggeration: 59.610946\n",
      "[t-SNE] KL divergence after 10000 iterations: 0.450022\n",
      "Perplexity: 22.0\n",
      "[t-SNE] Computing pairwise distances...\n",
      "[t-SNE] Computed conditional probabilities for sample 203 / 203\n",
      "[t-SNE] Mean sigma: 0.790286\n",
      "[t-SNE] KL divergence after 250 iterations with early exaggeration: 57.464939\n",
      "[t-SNE] KL divergence after 1000 iterations: 0.491354\n",
      "Perplexity: 28.0\n",
      "[t-SNE] Computing pairwise distances...\n",
      "[t-SNE] Computed conditional probabilities for sample 203 / 203\n",
      "[t-SNE] Mean sigma: 0.858492\n",
      "[t-SNE] KL divergence after 250 iterations with early exaggeration: 52.756101\n",
      "[t-SNE] KL divergence after 900 iterations: 0.427430\n",
      "Perplexity: 36.0\n",
      "[t-SNE] Computing pairwise distances...\n",
      "[t-SNE] Computed conditional probabilities for sample 203 / 203\n",
      "[t-SNE] Mean sigma: 0.939401\n",
      "[t-SNE] KL divergence after 250 iterations with early exaggeration: 50.268858\n",
      "[t-SNE] KL divergence after 550 iterations: 0.351936\n",
      "Perplexity: 46.0\n",
      "[t-SNE] Computing pairwise distances...\n",
      "[t-SNE] Computed conditional probabilities for sample 203 / 203\n",
      "[t-SNE] Mean sigma: 1.031334\n",
      "[t-SNE] KL divergence after 250 iterations with early exaggeration: 47.249525\n",
      "[t-SNE] KL divergence after 600 iterations: 0.300184\n",
      "Perplexity: 59.0\n",
      "[t-SNE] Computing pairwise distances...\n",
      "[t-SNE] Computed conditional probabilities for sample 203 / 203\n",
      "[t-SNE] Mean sigma: 1.143428\n",
      "[t-SNE] KL divergence after 250 iterations with early exaggeration: 44.996078\n",
      "[t-SNE] KL divergence after 500 iterations: 0.269137\n",
      "Perplexity: 75.0\n",
      "[t-SNE] Computing pairwise distances...\n",
      "[t-SNE] Computed conditional probabilities for sample 203 / 203\n",
      "[t-SNE] Mean sigma: 1.278829\n",
      "[t-SNE] KL divergence after 250 iterations with early exaggeration: 41.415398\n",
      "[t-SNE] KL divergence after 600 iterations: 0.213753\n",
      "Perplexity: 96.0\n",
      "[t-SNE] Computing pairwise distances...\n",
      "[t-SNE] Computed conditional probabilities for sample 203 / 203\n",
      "[t-SNE] Mean sigma: 1.465522\n",
      "[t-SNE] KL divergence after 250 iterations with early exaggeration: 38.575988\n",
      "[t-SNE] KL divergence after 450 iterations: 0.121915\n",
      "Perplexity: 123.0\n",
      "[t-SNE] Computing pairwise distances...\n",
      "[t-SNE] Computed conditional probabilities for sample 203 / 203\n",
      "[t-SNE] Mean sigma: 1.748596\n",
      "[t-SNE] KL divergence after 250 iterations with early exaggeration: 34.877984\n",
      "[t-SNE] KL divergence after 450 iterations: 0.076214\n",
      "Perplexity: 158.0\n",
      "[t-SNE] Computing pairwise distances...\n",
      "[t-SNE] Computed conditional probabilities for sample 203 / 203\n",
      "[t-SNE] Mean sigma: 2.304928\n",
      "[t-SNE] KL divergence after 250 iterations with early exaggeration: 32.152275\n",
      "[t-SNE] KL divergence after 450 iterations: 0.046448\n",
      "Perplexity: 202.0\n",
      "[t-SNE] Computing pairwise distances...\n",
      "[t-SNE] Computed conditional probabilities for sample 203 / 203\n",
      "[t-SNE] Mean sigma: 45.880638\n",
      "[t-SNE] KL divergence after 250 iterations with early exaggeration: 29.824965\n",
      "[t-SNE] KL divergence after 500 iterations: 0.000000\n"
     ]
    }
   ],
   "execution_count": 52
  },
  {
   "metadata": {
    "ExecuteTime": {
     "end_time": "2024-06-18T11:02:00.117171Z",
     "start_time": "2024-06-18T11:00:38.204781Z"
    }
   },
   "cell_type": "code",
   "source": [
    "plot_t_sne(\n",
    "    ALL_SPECTRA[:, :, 1], \"./misc/plots/t-sne\", random_state=42, init=\"random\", f_name=\"t_sne_random_42.png\", grid_dim=4,\n",
    "    branch_classification=SPECTRAL_INDICATORS['branch_classification']\n",
    ")"
   ],
   "id": "e9beb130f329b34c",
   "outputs": [
    {
     "name": "stdout",
     "output_type": "stream",
     "text": [
      "Perplexity: 5.0\n",
      "[t-SNE] Computing pairwise distances...\n",
      "[t-SNE] Computed conditional probabilities for sample 203 / 203\n",
      "[t-SNE] Mean sigma: 0.476403\n",
      "[t-SNE] KL divergence after 250 iterations with early exaggeration: 67.367185\n",
      "[t-SNE] KL divergence after 10000 iterations: 0.525036\n",
      "Perplexity: 6.0\n",
      "[t-SNE] Computing pairwise distances...\n",
      "[t-SNE] Computed conditional probabilities for sample 203 / 203\n",
      "[t-SNE] Mean sigma: 0.511257\n",
      "[t-SNE] KL divergence after 250 iterations with early exaggeration: 66.071128\n",
      "[t-SNE] KL divergence after 10000 iterations: 0.549924\n",
      "Perplexity: 8.0\n",
      "[t-SNE] Computing pairwise distances...\n",
      "[t-SNE] Computed conditional probabilities for sample 203 / 203\n",
      "[t-SNE] Mean sigma: 0.565429\n",
      "[t-SNE] KL divergence after 250 iterations with early exaggeration: 62.540098\n",
      "[t-SNE] KL divergence after 10000 iterations: 0.537167\n",
      "Perplexity: 10.0\n",
      "[t-SNE] Computing pairwise distances...\n",
      "[t-SNE] Computed conditional probabilities for sample 203 / 203\n",
      "[t-SNE] Mean sigma: 0.609174\n",
      "[t-SNE] KL divergence after 250 iterations with early exaggeration: 60.448828\n",
      "[t-SNE] KL divergence after 10000 iterations: 0.515952\n",
      "Perplexity: 13.0\n",
      "[t-SNE] Computing pairwise distances...\n",
      "[t-SNE] Computed conditional probabilities for sample 203 / 203\n",
      "[t-SNE] Mean sigma: 0.664005\n",
      "[t-SNE] KL divergence after 250 iterations with early exaggeration: 60.686332\n",
      "[t-SNE] KL divergence after 10000 iterations: 0.502233\n",
      "Perplexity: 17.0\n",
      "[t-SNE] Computing pairwise distances...\n",
      "[t-SNE] Computed conditional probabilities for sample 203 / 203\n",
      "[t-SNE] Mean sigma: 0.725168\n",
      "[t-SNE] KL divergence after 250 iterations with early exaggeration: 60.544504\n",
      "[t-SNE] KL divergence after 10000 iterations: 0.471405\n",
      "Perplexity: 22.0\n",
      "[t-SNE] Computing pairwise distances...\n",
      "[t-SNE] Computed conditional probabilities for sample 203 / 203\n",
      "[t-SNE] Mean sigma: 0.790286\n",
      "[t-SNE] KL divergence after 250 iterations with early exaggeration: 57.987629\n",
      "[t-SNE] KL divergence after 2250 iterations: 0.436465\n",
      "Perplexity: 28.0\n",
      "[t-SNE] Computing pairwise distances...\n",
      "[t-SNE] Computed conditional probabilities for sample 203 / 203\n",
      "[t-SNE] Mean sigma: 0.858492\n",
      "[t-SNE] KL divergence after 250 iterations with early exaggeration: 54.843798\n",
      "[t-SNE] KL divergence after 850 iterations: 0.416766\n",
      "Perplexity: 36.0\n",
      "[t-SNE] Computing pairwise distances...\n",
      "[t-SNE] Computed conditional probabilities for sample 203 / 203\n",
      "[t-SNE] Mean sigma: 0.939401\n",
      "[t-SNE] KL divergence after 250 iterations with early exaggeration: 49.944360\n",
      "[t-SNE] KL divergence after 550 iterations: 0.348374\n",
      "Perplexity: 46.0\n",
      "[t-SNE] Computing pairwise distances...\n",
      "[t-SNE] Computed conditional probabilities for sample 203 / 203\n",
      "[t-SNE] Mean sigma: 1.031334\n",
      "[t-SNE] KL divergence after 250 iterations with early exaggeration: 47.980279\n",
      "[t-SNE] KL divergence after 650 iterations: 0.300001\n",
      "Perplexity: 59.0\n",
      "[t-SNE] Computing pairwise distances...\n",
      "[t-SNE] Computed conditional probabilities for sample 203 / 203\n",
      "[t-SNE] Mean sigma: 1.143428\n",
      "[t-SNE] KL divergence after 250 iterations with early exaggeration: 46.348122\n",
      "[t-SNE] KL divergence after 500 iterations: 0.311047\n",
      "Perplexity: 75.0\n",
      "[t-SNE] Computing pairwise distances...\n",
      "[t-SNE] Computed conditional probabilities for sample 203 / 203\n",
      "[t-SNE] Mean sigma: 1.278829\n",
      "[t-SNE] KL divergence after 250 iterations with early exaggeration: 40.928688\n",
      "[t-SNE] KL divergence after 600 iterations: 0.215754\n",
      "Perplexity: 96.0\n",
      "[t-SNE] Computing pairwise distances...\n",
      "[t-SNE] Computed conditional probabilities for sample 203 / 203\n",
      "[t-SNE] Mean sigma: 1.465522\n",
      "[t-SNE] KL divergence after 250 iterations with early exaggeration: 38.225791\n",
      "[t-SNE] KL divergence after 500 iterations: 0.122854\n",
      "Perplexity: 123.0\n",
      "[t-SNE] Computing pairwise distances...\n",
      "[t-SNE] Computed conditional probabilities for sample 203 / 203\n",
      "[t-SNE] Mean sigma: 1.748596\n",
      "[t-SNE] KL divergence after 250 iterations with early exaggeration: 36.760406\n",
      "[t-SNE] KL divergence after 450 iterations: 0.071983\n",
      "Perplexity: 158.0\n",
      "[t-SNE] Computing pairwise distances...\n",
      "[t-SNE] Computed conditional probabilities for sample 203 / 203\n",
      "[t-SNE] Mean sigma: 2.304928\n",
      "[t-SNE] KL divergence after 250 iterations with early exaggeration: 32.177692\n",
      "[t-SNE] KL divergence after 450 iterations: 0.028920\n",
      "Perplexity: 202.0\n",
      "[t-SNE] Computing pairwise distances...\n",
      "[t-SNE] Computed conditional probabilities for sample 203 / 203\n",
      "[t-SNE] Mean sigma: 45.880638\n",
      "[t-SNE] KL divergence after 250 iterations with early exaggeration: 29.818927\n",
      "[t-SNE] KL divergence after 700 iterations: 0.000000\n"
     ]
    }
   ],
   "execution_count": 53
  },
  {
   "metadata": {
    "ExecuteTime": {
     "end_time": "2024-06-18T11:03:20.850570Z",
     "start_time": "2024-06-18T11:02:00.118456Z"
    }
   },
   "cell_type": "code",
   "source": [
    "plot_t_sne(\n",
    "    ALL_SPECTRA[:, :, 1], \"./misc/plots/t-sne\", random_state=123, init=\"random\", f_name=\"t_sne_random_123.png\", grid_dim=4,\n",
    "    branch_classification=SPECTRAL_INDICATORS['branch_classification']\n",
    ")"
   ],
   "id": "f0571851584d6327",
   "outputs": [
    {
     "name": "stdout",
     "output_type": "stream",
     "text": [
      "Perplexity: 5.0\n",
      "[t-SNE] Computing pairwise distances...\n",
      "[t-SNE] Computed conditional probabilities for sample 203 / 203\n",
      "[t-SNE] Mean sigma: 0.476403\n",
      "[t-SNE] KL divergence after 250 iterations with early exaggeration: 65.489327\n",
      "[t-SNE] KL divergence after 10000 iterations: 0.526400\n",
      "Perplexity: 6.0\n",
      "[t-SNE] Computing pairwise distances...\n",
      "[t-SNE] Computed conditional probabilities for sample 203 / 203\n",
      "[t-SNE] Mean sigma: 0.511257\n",
      "[t-SNE] KL divergence after 250 iterations with early exaggeration: 68.100297\n",
      "[t-SNE] KL divergence after 10000 iterations: 0.522161\n",
      "Perplexity: 8.0\n",
      "[t-SNE] Computing pairwise distances...\n",
      "[t-SNE] Computed conditional probabilities for sample 203 / 203\n",
      "[t-SNE] Mean sigma: 0.565429\n",
      "[t-SNE] KL divergence after 250 iterations with early exaggeration: 62.470808\n",
      "[t-SNE] KL divergence after 10000 iterations: 0.538567\n",
      "Perplexity: 10.0\n",
      "[t-SNE] Computing pairwise distances...\n",
      "[t-SNE] Computed conditional probabilities for sample 203 / 203\n",
      "[t-SNE] Mean sigma: 0.609174\n",
      "[t-SNE] KL divergence after 250 iterations with early exaggeration: 64.478062\n",
      "[t-SNE] KL divergence after 10000 iterations: 0.504626\n",
      "Perplexity: 13.0\n",
      "[t-SNE] Computing pairwise distances...\n",
      "[t-SNE] Computed conditional probabilities for sample 203 / 203\n",
      "[t-SNE] Mean sigma: 0.664005\n",
      "[t-SNE] KL divergence after 250 iterations with early exaggeration: 58.575810\n",
      "[t-SNE] KL divergence after 10000 iterations: 0.492909\n",
      "Perplexity: 17.0\n",
      "[t-SNE] Computing pairwise distances...\n",
      "[t-SNE] Computed conditional probabilities for sample 203 / 203\n",
      "[t-SNE] Mean sigma: 0.725168\n",
      "[t-SNE] KL divergence after 250 iterations with early exaggeration: 60.580931\n",
      "[t-SNE] KL divergence after 10000 iterations: 0.472053\n",
      "Perplexity: 22.0\n",
      "[t-SNE] Computing pairwise distances...\n",
      "[t-SNE] Computed conditional probabilities for sample 203 / 203\n",
      "[t-SNE] Mean sigma: 0.790286\n",
      "[t-SNE] KL divergence after 250 iterations with early exaggeration: 55.205939\n",
      "[t-SNE] KL divergence after 2200 iterations: 0.466981\n",
      "Perplexity: 28.0\n",
      "[t-SNE] Computing pairwise distances...\n",
      "[t-SNE] Computed conditional probabilities for sample 203 / 203\n",
      "[t-SNE] Mean sigma: 0.858492\n",
      "[t-SNE] KL divergence after 250 iterations with early exaggeration: 55.246884\n",
      "[t-SNE] KL divergence after 900 iterations: 0.451744\n",
      "Perplexity: 36.0\n",
      "[t-SNE] Computing pairwise distances...\n",
      "[t-SNE] Computed conditional probabilities for sample 203 / 203\n",
      "[t-SNE] Mean sigma: 0.939401\n",
      "[t-SNE] KL divergence after 250 iterations with early exaggeration: 50.867204\n",
      "[t-SNE] KL divergence after 650 iterations: 0.365673\n",
      "Perplexity: 46.0\n",
      "[t-SNE] Computing pairwise distances...\n",
      "[t-SNE] Computed conditional probabilities for sample 203 / 203\n",
      "[t-SNE] Mean sigma: 1.031334\n",
      "[t-SNE] KL divergence after 250 iterations with early exaggeration: 48.593022\n",
      "[t-SNE] KL divergence after 550 iterations: 0.288688\n",
      "Perplexity: 59.0\n",
      "[t-SNE] Computing pairwise distances...\n",
      "[t-SNE] Computed conditional probabilities for sample 203 / 203\n",
      "[t-SNE] Mean sigma: 1.143428\n",
      "[t-SNE] KL divergence after 250 iterations with early exaggeration: 44.975300\n",
      "[t-SNE] KL divergence after 550 iterations: 0.275632\n",
      "Perplexity: 75.0\n",
      "[t-SNE] Computing pairwise distances...\n",
      "[t-SNE] Computed conditional probabilities for sample 203 / 203\n",
      "[t-SNE] Mean sigma: 1.278829\n",
      "[t-SNE] KL divergence after 250 iterations with early exaggeration: 42.520226\n",
      "[t-SNE] KL divergence after 500 iterations: 0.207146\n",
      "Perplexity: 96.0\n",
      "[t-SNE] Computing pairwise distances...\n",
      "[t-SNE] Computed conditional probabilities for sample 203 / 203\n",
      "[t-SNE] Mean sigma: 1.465522\n",
      "[t-SNE] KL divergence after 250 iterations with early exaggeration: 39.324013\n",
      "[t-SNE] KL divergence after 450 iterations: 0.130272\n",
      "Perplexity: 123.0\n",
      "[t-SNE] Computing pairwise distances...\n",
      "[t-SNE] Computed conditional probabilities for sample 203 / 203\n",
      "[t-SNE] Mean sigma: 1.748596\n",
      "[t-SNE] KL divergence after 250 iterations with early exaggeration: 34.937951\n",
      "[t-SNE] KL divergence after 450 iterations: 0.072528\n",
      "Perplexity: 158.0\n",
      "[t-SNE] Computing pairwise distances...\n",
      "[t-SNE] Computed conditional probabilities for sample 203 / 203\n",
      "[t-SNE] Mean sigma: 2.304928\n",
      "[t-SNE] KL divergence after 250 iterations with early exaggeration: 32.484080\n",
      "[t-SNE] KL divergence after 450 iterations: 0.029238\n",
      "Perplexity: 202.0\n",
      "[t-SNE] Computing pairwise distances...\n",
      "[t-SNE] Computed conditional probabilities for sample 203 / 203\n",
      "[t-SNE] Mean sigma: 45.880638\n",
      "[t-SNE] KL divergence after 250 iterations with early exaggeration: 29.818924\n",
      "[t-SNE] KL divergence after 550 iterations: 0.000000\n"
     ]
    }
   ],
   "execution_count": 54
  },
  {
   "metadata": {
    "ExecuteTime": {
     "end_time": "2024-06-18T11:03:20.860987Z",
     "start_time": "2024-06-18T11:03:20.854321Z"
    }
   },
   "cell_type": "code",
   "source": [
    "def isomap_embedding(spectra, n_components=2, n_neighbors=5):\n",
    "    mean_spectrum = np.mean(spectra, axis=0)\n",
    "    def spectral_distance(x, y):\n",
    "        return np.linalg.norm((x - y) / mean_spectrum)    \n",
    "    isomap = Isomap(\n",
    "        n_jobs=-1, n_neighbors=n_neighbors, metric=spectral_distance, n_components=n_components\n",
    "    )\n",
    "    projection = isomap.fit_transform(spectra)\n",
    "    return projection"
   ],
   "id": "5bcb20ebe6747a76",
   "outputs": [],
   "execution_count": 55
  },
  {
   "metadata": {
    "ExecuteTime": {
     "end_time": "2024-06-18T11:03:20.866597Z",
     "start_time": "2024-06-18T11:03:20.861778Z"
    }
   },
   "cell_type": "code",
   "source": [
    "def plot_isomap(spectra, save_path, n_components=2, grid_dim=5, f_name=\"isomap.png\", branch_classification=None):\n",
    "    with plt.style.context('science'):\n",
    "        # importlib.reload(mpl)\n",
    "        # print(mpl.rcParams)\n",
    "        # mpl.rcParams[\"legend.frameon\"] = True\n",
    "        fig, axs = plt.subplots(grid_dim, grid_dim, figsize=(16, 16))\n",
    "        # neighbors_step = spectra.shape[0] // grid_dim ** 2\n",
    "        n_neighbors_ls = np.round(np.logspace(np.log10(5), np.log10(spectra.shape[0]-1), grid_dim ** 2)).astype(int)\n",
    "        if branch_classification is not None:\n",
    "            colors = [BRANCH_CLASSIFICATION_COLORMAP[branch] for branch in branch_classification]\n",
    "        for i, ax in enumerate(axs.flat):\n",
    "            n_neighbors = n_neighbors_ls[i]\n",
    "            print(f\"Neighbors: {n_neighbors}\")\n",
    "            embedding = isomap_embedding(spectra, n_neighbors=n_neighbors, n_components=n_components)\n",
    "            if colors is not None:\n",
    "                for label, color in BRANCH_CLASSIFICATION_COLORMAP.items():\n",
    "                    ax.scatter(\n",
    "                        embedding[branch_classification == label, 0], embedding[branch_classification == label, 1],\n",
    "                        alpha=0.75, c=color, label=label\n",
    "                    )\n",
    "                ax.legend(frameon=True, framealpha=0.8, edgecolor='black', fancybox=True)\n",
    "            else:\n",
    "                ax.scatter(embedding[:, 0], embedding[:, 1], alpha=0.75)\n",
    "            ax.set_xlabel(r\"$\\xi_1$\")\n",
    "            ax.set_ylabel(r\"$\\xi_2$\")\n",
    "            ax.set_title(f\"Neighbors: {int(n_neighbors)}\")\n",
    "\n",
    "        fig.suptitle(f\"Total components: {n_components}\")\n",
    "        fig.tight_layout(rect=[0, 0.03, 1, 0.95])\n",
    "        fig.savefig(f\"{save_path}/{f_name}\", dpi=150)\n",
    "        plt.close(fig)"
   ],
   "id": "90d496d7ce9574f1",
   "outputs": [],
   "execution_count": 56
  },
  {
   "metadata": {
    "ExecuteTime": {
     "end_time": "2024-06-18T11:03:30.092620Z",
     "start_time": "2024-06-18T11:03:20.868003Z"
    }
   },
   "cell_type": "code",
   "source": [
    "plot_isomap(\n",
    "    ALL_SPECTRA[:, :, 1], \"./misc/plots/t-sne\", f_name=\"isomap_2.png\", grid_dim=4, n_components=2,\n",
    "    branch_classification=SPECTRAL_INDICATORS['branch_classification'],\n",
    ")"
   ],
   "id": "d59ff0382c2542af",
   "outputs": [
    {
     "name": "stdout",
     "output_type": "stream",
     "text": [
      "Neighbors: 5\n",
      "Neighbors: 6\n",
      "Neighbors: 8\n",
      "Neighbors: 10\n",
      "Neighbors: 13\n",
      "Neighbors: 17\n",
      "Neighbors: 22\n",
      "Neighbors: 28\n",
      "Neighbors: 36\n",
      "Neighbors: 46\n",
      "Neighbors: 59\n",
      "Neighbors: 75\n",
      "Neighbors: 96\n",
      "Neighbors: 123\n",
      "Neighbors: 158\n",
      "Neighbors: 202\n"
     ]
    }
   ],
   "execution_count": 57
  },
  {
   "metadata": {
    "ExecuteTime": {
     "end_time": "2024-06-18T11:03:39.127302Z",
     "start_time": "2024-06-18T11:03:30.093930Z"
    }
   },
   "cell_type": "code",
   "source": [
    "plot_isomap(\n",
    "    ALL_SPECTRA[:, :, 1], \"./misc/plots/t-sne\", f_name=\"isomap_3.png\", grid_dim=4, n_components=3,\n",
    "    branch_classification=SPECTRAL_INDICATORS['branch_classification']\n",
    ")"
   ],
   "id": "e599ed8fee4f0f9",
   "outputs": [
    {
     "name": "stdout",
     "output_type": "stream",
     "text": [
      "Neighbors: 5\n",
      "Neighbors: 6\n",
      "Neighbors: 8\n",
      "Neighbors: 10\n",
      "Neighbors: 13\n",
      "Neighbors: 17\n",
      "Neighbors: 22\n",
      "Neighbors: 28\n",
      "Neighbors: 36\n",
      "Neighbors: 46\n",
      "Neighbors: 59\n",
      "Neighbors: 75\n",
      "Neighbors: 96\n",
      "Neighbors: 123\n",
      "Neighbors: 158\n",
      "Neighbors: 202\n"
     ]
    }
   ],
   "execution_count": 58
  },
  {
   "metadata": {
    "ExecuteTime": {
     "end_time": "2024-06-18T11:03:41.174191Z",
     "start_time": "2024-06-18T11:03:39.128581Z"
    }
   },
   "cell_type": "code",
   "source": "skdim.id.FisherS(verbose=True, conditional_number=100).fit_transform(ALL_SPECTRA[:, :, 1])",
   "id": "e21a19a1697f5c5",
   "outputs": [
    {
     "name": "stdout",
     "output_type": "stream",
     "text": [
      "15 components are retained using conditional_number=100.00\n"
     ]
    },
    {
     "data": {
      "text/plain": [
       "8.419870958592943"
      ]
     },
     "execution_count": 59,
     "metadata": {},
     "output_type": "execute_result"
    }
   ],
   "execution_count": 59
  },
  {
   "metadata": {},
   "cell_type": "code",
   "source": "skdim.id.lPCA(verbose=True).fit_transform(ALL_SPECTRA[:, :, 1])",
   "id": "b0610078a3ad5388",
   "outputs": [],
   "execution_count": null
  },
  {
   "metadata": {},
   "cell_type": "code",
   "source": "plt.scatter(EMBEDDING[:, 0], EMBEDDING[:, 1])",
   "id": "a8f5847221b0d514",
   "outputs": [],
   "execution_count": null
  },
  {
   "metadata": {},
   "cell_type": "code",
   "source": "sn = np.loadtxt(\"../SNfactory/spectra/AT2015bp.dat\", skiprows=1)\n",
   "id": "2cc4c1397a2d5b5",
   "outputs": [],
   "execution_count": null
  }
 ],
 "metadata": {
  "kernelspec": {
   "display_name": "Python 3",
   "language": "python",
   "name": "python3"
  },
  "language_info": {
   "codemirror_mode": {
    "name": "ipython",
    "version": 2
   },
   "file_extension": ".py",
   "mimetype": "text/x-python",
   "name": "python",
   "nbconvert_exporter": "python",
   "pygments_lexer": "ipython2",
   "version": "2.7.6"
  }
 },
 "nbformat": 4,
 "nbformat_minor": 5
}
